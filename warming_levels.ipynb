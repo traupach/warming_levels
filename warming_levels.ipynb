{
 "cells": [
  {
   "cell_type": "markdown",
   "id": "238a6f09-70f1-400e-a22e-fe1b8a7f65a9",
   "metadata": {},
   "source": [
    "# Global warming levels\n",
    "\n",
    "Tim Raupach <<t.raupach@unsw.edu.au>>"
   ]
  },
  {
   "cell_type": "markdown",
   "id": "24afb9c8-135d-4a7e-85b5-38f593dc4797",
   "metadata": {},
   "source": [
    "This notebook contains code to calculate the mean warming over a baseline temperature for a given year range in CMIP5 or CMIP6 experiments. The calculation is as follows:\n",
    "\n",
    "1. Monthly global mean temperatures are sourced from [IPCC Repository supporting the implementation of FAIR principles in the IPCC-WG1 Atlas](https://github.com/IPCC-WG1/Atlas) (CC-BY-4.0).\n",
    "2. For a given project (CMIP5/CMIP6) and experiment (RCP8.5, SSP5-8.5 etc), all monthly global mean temperatures are read. The variable is near-surface temperature (`tas`), which is available averaged by region and globally.\n",
    "3. The mean global temperature (over time) is calculated per model using monthly values, for the baseline and future periods/experiments respectively.\n",
    "4. Changes are calculated per model as future minus baseline. Only models with values for both future and baseline periods are kept.\n",
    "5. The average of changes across models is the resulting change.\n",
    "\n",
    "In the following plots grey lines are annual average temperature for each individual model, and the red line is the annual multimodel mean. The lighter grey lines are for the entire future projection, while the darker grey lines are for the baseline period of the baseline model run. The green region shows the baseline period. The yellow region is the future period. The mean change is shown in the plot title and returned by the function `warming_for_period`.\n",
    "\n",
    "## Similar implementations\n",
    "* [Mathias Hauser, Francois Engelbrecht, and Erich Fischer](https://github.com/mathause/cmip_warming_levels) have code for calculating the year on which a given warming is reached.\n",
    "* Similarly, the [IPCC Atlas](https://github.com/IPCC-WG1/Atlas/tree/main/warming-levels) also has code to calculate the year on which a given warming is reached.\n",
    "\n",
    "## Data sources\n",
    "Temperature data is from the IPCC Atlas github (CC-BY-4.0):\n",
    "\n",
    "> Iturbide, M., Fernández, J., Gutiérrez, J.M., Bedia, J., Cimadevilla, E., Díez-Sierra, J., Manzanas, R., Casanueva, A., Baño-Medina, J., Milovac, J., Herrera, S., Cofiño, A.S., San Martín, D., García-Díez, M., Hauser, M., Huard, D., Yelekci, Ö. (2021) Repository supporting the implementation of FAIR principles in the IPCC-WG1 Atlas. Zenodo, DOI: 10.5281/zenodo.3691645. Available from: https://github.com/IPCC-WG1/Atlas \n"
   ]
  },
  {
   "cell_type": "code",
   "execution_count": 1,
   "id": "09f2c687-80dc-4846-9c91-16792e44bba7",
   "metadata": {
    "tags": []
   },
   "outputs": [
    {
     "name": "stdout",
     "output_type": "stream",
     "text": [
      "/home/561/tr2908/git/warming_levels\n"
     ]
    }
   ],
   "source": [
    "%cd ~/git/warming_levels\n",
    "import modules.warming_levels as wl"
   ]
  },
  {
   "cell_type": "markdown",
   "id": "f674947a-f8f0-4cdc-83ea-bb0db4277293",
   "metadata": {},
   "source": [
    "An example - show mean warming for CMIP5 RCP8.5 2070-2090 compared to 1986-2006 from the historical run:"
   ]
  },
  {
   "cell_type": "code",
   "execution_count": null,
   "id": "d5cd818a-c1a6-44a8-aede-df24945090ec",
   "metadata": {
    "tags": []
   },
   "outputs": [],
   "source": [
    "_ = wl.warming_amount(project='CMIP5', baseline_experiment='historical', baseline_range=[1986, 2005],\n",
    "                      future_experiment='rcp85', future_range=[2081, 2100])"
   ]
  },
  {
   "cell_type": "markdown",
   "id": "7190872a-e5a0-4425-a917-0fe37bc1bf7c",
   "metadata": {},
   "source": [
    "The same period in CMIP6 with SSP2-4.5:"
   ]
  },
  {
   "cell_type": "code",
   "execution_count": null,
   "id": "a9c06687-44c2-4d0a-be93-5e0d6886967a",
   "metadata": {
    "tags": []
   },
   "outputs": [],
   "source": [
    "_ = wl.warming_amount(project='CMIP6', baseline_experiment='historical', baseline_range=[1986, 2005],\n",
    "                      future_experiment='ssp245', future_range=[2070, 2090])"
   ]
  },
  {
   "cell_type": "markdown",
   "id": "c080496d-5446-4a47-b471-3f1ddab0cc01",
   "metadata": {},
   "source": [
    "And CMIP6 SSP1-2.6 vs preindustrial temperatures:"
   ]
  },
  {
   "cell_type": "code",
   "execution_count": null,
   "id": "54248119-8319-4140-80e8-0d512dba4c5f",
   "metadata": {},
   "outputs": [],
   "source": [
    "_ = wl.warming_amount(project='CMIP6', baseline_experiment='historical', baseline_range=[1850, 1900],\n",
    "                      future_experiment='ssp126', future_range=[2070, 2090])"
   ]
  },
  {
   "cell_type": "code",
   "execution_count": null,
   "id": "d48186c7-ee65-4534-8a3f-a531dd7a9ad5",
   "metadata": {
    "tags": []
   },
   "outputs": [],
   "source": [
    "_ = wl.warming_amount(project='CMIP6', baseline_experiment='historical', baseline_range=[1850, 1900],\n",
    "                      future_experiment='ssp585', future_range=[2029, 2049])"
   ]
  },
  {
   "cell_type": "markdown",
   "id": "772a5bb4-b618-404a-8bf1-804df99c8665",
   "metadata": {},
   "source": [
    "## Annual changes in observed temperature data"
   ]
  },
  {
   "cell_type": "markdown",
   "id": "6697c77b-60a4-49a2-ba46-e00150acdf26",
   "metadata": {},
   "source": [
    "Using BEST historical data we can also determine the mean amount of warming for a given period - note here this is the mean of monthly anomalies:"
   ]
  },
  {
   "cell_type": "code",
   "execution_count": null,
   "id": "7bcfbca9-43c9-4776-a1ff-b158b73687db",
   "metadata": {
    "tags": []
   },
   "outputs": [],
   "source": [
    "wl.obs_anomaly(year_range=[1990, 2010])"
   ]
  },
  {
   "cell_type": "markdown",
   "id": "6a97cb1e-8c66-4711-8872-34bced4e4f2a",
   "metadata": {},
   "source": [
    "The warming for the reference period is not zero, which I assume is because I'm taking the mean of monthly anomalies (not the 30-year anomaly for that time period). "
   ]
  },
  {
   "cell_type": "code",
   "execution_count": null,
   "id": "947aefc8-e639-46da-afc3-abdf93a6fb0c",
   "metadata": {
    "tags": []
   },
   "outputs": [],
   "source": [
    "wl.obs_anomaly(year_range=[1951, 1980])"
   ]
  },
  {
   "cell_type": "code",
   "execution_count": null,
   "id": "7a6f8e88-bdd4-49e7-bc5c-84db049adeb1",
   "metadata": {
    "tags": []
   },
   "outputs": [],
   "source": [
    "wl.obs_warming(from_range=[1925,1966], to_range=[1967,2010])"
   ]
  },
  {
   "cell_type": "markdown",
   "id": "f5682fec-a52d-4d21-81ec-385144a940d5",
   "metadata": {},
   "source": [
    "## Years when warming levels are reached\n",
    "\n",
    "We can also calculate the 20 year window in which a given warming level is first reached, following the method set out by [Hauser, Engelbrecht, and Fischer](https://github.com/mathause/cmip_warming_levels/blob/main/README.md)."
   ]
  },
  {
   "cell_type": "code",
   "execution_count": null,
   "id": "2fa8e062-f3b9-411f-a052-178877052a15",
   "metadata": {},
   "outputs": [],
   "source": [
    "wl.warming_window(warming_amount=1, project='CMIP6', baseline_range=[1850,1900], \n",
    "                  baseline_experiment='historical', future_experiment='ssp585')"
   ]
  },
  {
   "cell_type": "code",
   "execution_count": null,
   "id": "abe2b38e-073f-481e-9e3a-0537a30f2959",
   "metadata": {},
   "outputs": [],
   "source": [
    "wl.warming_window(warming_amount=0.94, project='CMIP6', baseline_range=[1995,2014], \n",
    "                  baseline_experiment='historical', future_experiment='ssp585')"
   ]
  },
  {
   "cell_type": "markdown",
   "id": "b4dd5f8c-ddf4-4f42-ba65-cc318a3d1af4",
   "metadata": {},
   "source": [
    "## Code to calculate global mean monthly temperatures\n",
    "\n",
    "... and save them into the `data/CMIP6_tas_landsea_local` directory."
   ]
  },
  {
   "cell_type": "code",
   "execution_count": 4,
   "id": "368dc1f0-8d99-43b6-9375-ec70f1c3c045",
   "metadata": {},
   "outputs": [],
   "source": [
    "# CMCC-ESM2\n",
    "wl.monthly_mean_temps(desc='CMIP6.CMIP.CMCC.CMCC-ESM2.historical.r1i1p1f1')\n",
    "wl.monthly_mean_temps(desc='CMIP6.ScenarioMIP.CMCC.CMCC-ESM2.ssp585.r1i1p1f1')\n",
    "\n",
    "# ACCESS-CM2\n",
    "wl.monthly_mean_temps(desc='CMIP6.CMIP.CSIRO-ARCCSS.ACCESS-CM2.historical.r4i1p1f1', CMIP6_dir='/g/data/fs38/publications')\n",
    "wl.monthly_mean_temps(desc='CMIP6.ScenarioMIP.CSIRO-ARCCSS.ACCESS-CM2.ssp585.r4i1p1f1', CMIP6_dir='/g/data/fs38/publications')\n",
    "\n",
    "# GISS-E2-1-G\n",
    "wl.monthly_mean_temps(desc='CMIP6.CMIP.NASA-GISS.GISS-E2-1-G.historical.r1i1p1f2')\n",
    "wl.monthly_mean_temps(desc='CMIP6.ScenarioMIP.NASA-GISS.GISS-E2-1-G.ssp585.r1i1p1f2')"
   ]
  },
  {
   "cell_type": "code",
   "execution_count": 3,
   "id": "cfcecec4-24b7-43a2-bb4f-65eaf1b727f7",
   "metadata": {},
   "outputs": [
    {
     "data": {
      "text/plain": [
       "<module 'modules.warming_levels' from '/home/561/tr2908/git/warming_levels/modules/warming_levels.py'>"
      ]
     },
     "execution_count": 3,
     "metadata": {},
     "output_type": "execute_result"
    }
   ],
   "source": [
    "from importlib import reload\n",
    "reload(wl)"
   ]
  },
  {
   "cell_type": "code",
   "execution_count": null,
   "id": "8552c2d8-395f-46dc-8fbc-f6ded888b94c",
   "metadata": {},
   "outputs": [],
   "source": []
  }
 ],
 "metadata": {
  "kernelspec": {
   "display_name": "Python [conda env:analysis3]",
   "language": "python",
   "name": "conda-env-analysis3-py"
  },
  "language_info": {
   "codemirror_mode": {
    "name": "ipython",
    "version": 3
   },
   "file_extension": ".py",
   "mimetype": "text/x-python",
   "name": "python",
   "nbconvert_exporter": "python",
   "pygments_lexer": "ipython3",
   "version": "3.9.17"
  }
 },
 "nbformat": 4,
 "nbformat_minor": 5
}
